{
 "cells": [
  {
   "cell_type": "markdown",
   "metadata": {},
   "source": [
    "Importing the necessary python libraries"
   ]
  },
  {
   "cell_type": "code",
   "execution_count": 99,
   "metadata": {},
   "outputs": [],
   "source": [
    "import pandas as pd\n",
    "import numpy as np\n",
    "import matplotlib.pyplot as plt\n",
    "import seaborn as sns"
   ]
  },
  {
   "cell_type": "markdown",
   "metadata": {},
   "source": [
    "Loading the data into Data Frames"
   ]
  },
  {
   "cell_type": "code",
   "execution_count": 100,
   "metadata": {},
   "outputs": [
    {
     "data": {
      "text/html": [
       "<div>\n",
       "<style scoped>\n",
       "    .dataframe tbody tr th:only-of-type {\n",
       "        vertical-align: middle;\n",
       "    }\n",
       "\n",
       "    .dataframe tbody tr th {\n",
       "        vertical-align: top;\n",
       "    }\n",
       "\n",
       "    .dataframe thead th {\n",
       "        text-align: right;\n",
       "    }\n",
       "</style>\n",
       "<table border=\"1\" class=\"dataframe\">\n",
       "  <thead>\n",
       "    <tr style=\"text-align: right;\">\n",
       "      <th></th>\n",
       "      <th>Year</th>\n",
       "      <th>Open</th>\n",
       "      <th>High</th>\n",
       "      <th>Low</th>\n",
       "      <th>Close</th>\n",
       "    </tr>\n",
       "  </thead>\n",
       "  <tbody>\n",
       "    <tr>\n",
       "      <th>0</th>\n",
       "      <td>2015</td>\n",
       "      <td>17590.66</td>\n",
       "      <td>17590.66</td>\n",
       "      <td>17421.16</td>\n",
       "      <td>17425.03</td>\n",
       "    </tr>\n",
       "    <tr>\n",
       "      <th>1</th>\n",
       "      <td>2016</td>\n",
       "      <td>19833.17</td>\n",
       "      <td>19852.55</td>\n",
       "      <td>19718.67</td>\n",
       "      <td>19762.60</td>\n",
       "    </tr>\n",
       "    <tr>\n",
       "      <th>2</th>\n",
       "      <td>2017</td>\n",
       "      <td>24849.63</td>\n",
       "      <td>24871.66</td>\n",
       "      <td>24719.22</td>\n",
       "      <td>24719.22</td>\n",
       "    </tr>\n",
       "    <tr>\n",
       "      <th>3</th>\n",
       "      <td>2018</td>\n",
       "      <td>23153.94</td>\n",
       "      <td>23333.18</td>\n",
       "      <td>23118.30</td>\n",
       "      <td>23327.46</td>\n",
       "    </tr>\n",
       "    <tr>\n",
       "      <th>4</th>\n",
       "      <td>2019</td>\n",
       "      <td>28414.64</td>\n",
       "      <td>28547.35</td>\n",
       "      <td>28376.49</td>\n",
       "      <td>28538.44</td>\n",
       "    </tr>\n",
       "  </tbody>\n",
       "</table>\n",
       "</div>"
      ],
      "text/plain": [
       "   Year      Open      High       Low     Close\n",
       "0  2015  17590.66  17590.66  17421.16  17425.03\n",
       "1  2016  19833.17  19852.55  19718.67  19762.60\n",
       "2  2017  24849.63  24871.66  24719.22  24719.22\n",
       "3  2018  23153.94  23333.18  23118.30  23327.46\n",
       "4  2019  28414.64  28547.35  28376.49  28538.44"
      ]
     },
     "execution_count": 100,
     "metadata": {},
     "output_type": "execute_result"
    }
   ],
   "source": [
    "dow_data = pd.read_csv('dow_jones.csv')\n",
    "dow_data['Date'] = pd.to_datetime(dow_data['Date'], format='mixed')\n",
    "dow_data.set_index('Date', inplace=True)\n",
    "dow_data = dow_data.resample('YE').last()\n",
    "dow_data.reset_index(inplace=True)\n",
    "dow_data['Date'] = dow_data['Date'].dt.year\n",
    "dow_data = dow_data.rename(columns={'Date': 'Year'})\n",
    "dow_data.head()"
   ]
  },
  {
   "cell_type": "code",
   "execution_count": 101,
   "metadata": {},
   "outputs": [
    {
     "name": "stdout",
     "output_type": "stream",
     "text": [
      "<class 'pandas.core.frame.DataFrame'>\n",
      "RangeIndex: 14 entries, 0 to 13\n",
      "Data columns (total 8 columns):\n",
      " #   Column              Non-Null Count  Dtype         \n",
      "---  ------              --------------  -----         \n",
      " 0   Year                14 non-null     datetime64[ns]\n",
      " 1   Jewellery           14 non-null     float64       \n",
      " 2   Central banks       14 non-null     float64       \n",
      " 3   Private Investment  14 non-null     float64       \n",
      " 4   Bars & Coins        14 non-null     float64       \n",
      " 5   ETFs                14 non-null     float64       \n",
      " 6   Other               14 non-null     float64       \n",
      " 7   Total               14 non-null     float64       \n",
      "dtypes: datetime64[ns](1), float64(7)\n",
      "memory usage: 1.0 KB\n"
     ]
    }
   ],
   "source": [
    "gold = pd.read_csv('stock_gold.csv')\n",
    "gold['Year'] = pd.to_datetime(gold['Year'])\n",
    "cols = gold.columns[1:]\n",
    "for i in cols:\n",
    "    gold[i] = gold[i].str.replace(',', '').astype(float)\n",
    "gold.info()"
   ]
  },
  {
   "cell_type": "code",
   "execution_count": null,
   "metadata": {},
   "outputs": [],
   "source": []
  }
 ],
 "metadata": {
  "kernelspec": {
   "display_name": "Python 3",
   "language": "python",
   "name": "python3"
  },
  "language_info": {
   "codemirror_mode": {
    "name": "ipython",
    "version": 3
   },
   "file_extension": ".py",
   "mimetype": "text/x-python",
   "name": "python",
   "nbconvert_exporter": "python",
   "pygments_lexer": "ipython3",
   "version": "3.12.3"
  }
 },
 "nbformat": 4,
 "nbformat_minor": 2
}
